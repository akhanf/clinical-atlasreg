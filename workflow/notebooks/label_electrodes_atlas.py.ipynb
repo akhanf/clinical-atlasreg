{
 "cells": [
  {
   "cell_type": "code",
   "execution_count": 5,
   "metadata": {},
   "outputs": [],
   "source": [
    "import pandas as pd\n",
    "import numpy as np\n",
    "import nibabel as nib\n",
    "\n",
    "#read fcsv electrodes file\n",
    "df_elec = pd.read_table(snakemake.input.fcsv,sep=',',header=2)\n",
    "df_elec"
   ]
  },
  {
   "cell_type": "code",
   "execution_count": 6,
   "metadata": {},
   "outputs": [],
   "source": [
    "df_atlas = pd.read_table(snakemake.input.dseg_tsv)\n",
    "df_atlas"
   ]
  },
  {
   "cell_type": "code",
   "execution_count": null,
   "metadata": {},
   "outputs": [],
   "source": [
    "#load up tissue probability, warped from template\n",
    "tissue_prob_vol = dict()\n",
    "tissue_prob_elec = dict()\n",
    "\n",
    "for label,nii in zip(snakemake.config['tissue_labels'], snakemake.input.tissue_probsegs):\n",
    "    print(label)\n",
    "    print(nii)\n",
    "    tissue_prob_vol[label] = nib.load(nii).get_fdata()\n",
    "    tissue_prob_elec[label] = list()\n",
    "    "
   ]
  },
  {
   "cell_type": "code",
   "execution_count": 32,
   "metadata": {},
   "outputs": [],
   "source": [
    "#load dseg nii (as integer)\n",
    "dseg_nii = nib.load(snakemake.input.dseg_nii)\n",
    "dseg_vol = dseg_nii.get_fdata().astype('int')\n",
    "\n",
    "#get affine from image, so we can go from RAS coords to array indices\n",
    "dseg_affine = dseg_nii.affine\n",
    "dseg_affine\n",
    "\n",
    "#get coords from fcsv\n",
    "coords = df_elec[['x','y','z']].to_numpy()\n",
    "\n",
    "\n",
    "labelnames = []\n",
    "\n",
    "for i in range(len(coords)):\n",
    "\n",
    "    vec = np.hstack([coords[i,:],1])\n",
    "\n",
    "    #dseg_affine is used to xfm indices to RAS coords, \n",
    "    # so we use the inverse to go the other way\n",
    "    tvec = np.linalg.inv(dseg_affine) @ vec.T   \n",
    "    inds = np.round(tvec[:3]).astype('int')\n",
    "    labelnum = dseg_vol[inds[0],inds[1],inds[2]]\n",
    "    \n",
    "    \n",
    "    if labelnum >0:\n",
    "        labelnames.append(df_atlas.loc[df_atlas['index']==labelnum,'name'].to_list()[0])\n",
    "    else:\n",
    "        labelnames.append('None')\n",
    "        \n",
    "    for label in snakemake.config['tissue_labels']:\n",
    "        tissue_prob_elec[label].append(tissue_prob_vol[label][inds[0],inds[1],inds[2]])\n",
    "    \n",
    "#add new columns to existing dataframe\n",
    "df_elec['atlas_label'] = labelnames\n",
    "for label in snakemake.config['tissue_labels']:\n",
    "    df_elec[label] = tissue_prob_elec[label] \n"
   ]
  },
  {
   "cell_type": "code",
   "execution_count": 33,
   "metadata": {},
   "outputs": [],
   "source": [
    "#create new dataframe with selected variables and save it\n",
    "out_df = df_elec[['x','y','z','label','atlas_label'] + snakemake.config['tissue_labels']]\n",
    "out_df.to_csv(snakemake.output.tsv,sep='\\t',float_format='%.3f',index=False)\n",
    "\n",
    "out_df"
   ]
  },
  {
   "cell_type": "code",
   "execution_count": 34,
   "metadata": {},
   "outputs": [],
   "source": []
  },
  {
   "cell_type": "code",
   "execution_count": null,
   "metadata": {},
   "outputs": [],
   "source": []
  }
 ],
 "metadata": {
  "kernelspec": {
   "display_name": "Python 3",
   "language": "python",
   "name": "python3"
  },
  "language_info": {
   "codemirror_mode": {
    "name": "ipython",
    "version": 3
   },
   "file_extension": ".py",
   "mimetype": "text/x-python",
   "name": "python",
   "nbconvert_exporter": "python",
   "pygments_lexer": "ipython3",
   "version": "3.7.4"
  }
 },
 "nbformat": 4,
 "nbformat_minor": 4
}
