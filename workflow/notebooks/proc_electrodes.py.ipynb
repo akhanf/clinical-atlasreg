{
 "cells": [
  {
   "cell_type": "code",
   "execution_count": 2,
   "metadata": {},
   "outputs": [],
   "source": [
    "# start coding here\n",
    "import pandas as pd\n",
    "df = pd.read_table(snakemake.input.tsv)\n",
    "df"
   ]
  },
  {
   "cell_type": "code",
   "execution_count": 4,
   "metadata": {},
   "outputs": [],
   "source": [
    "import numpy as np\n",
    "\n",
    "sub2template= np.loadtxt(snakemake.input.xfm_ras)\n",
    "sub2template"
   ]
  },
  {
   "cell_type": "code",
   "execution_count": 30,
   "metadata": {},
   "outputs": [],
   "source": [
    "from nilearn import plotting\n",
    "\n",
    "coords = df[['x','y','z']].to_numpy()\n",
    "#print(coords.shape)\n",
    "\n",
    "tcoords = np.zeros(coords.shape)\n",
    "for i in range(len(coords)):\n",
    "\n",
    "    vec = np.hstack([coords[i,:],1])\n",
    "    tvec = np.linalg.inv(sub2template) @ vec.T\n",
    "#    print(f'vec: {vec}, tvec = {tvec}')\n",
    "    tcoords[i,:] = tvec[:3]\n",
    "\n",
    "\n",
    "\n",
    "#to plot in mni space, need to warp coords\n",
    "plotting.view_markers(tcoords)"
   ]
  },
  {
   "cell_type": "code",
   "execution_count": 25,
   "metadata": {},
   "outputs": [],
   "source": [
    "\n",
    "    \n"
   ]
  },
  {
   "cell_type": "code",
   "execution_count": null,
   "metadata": {},
   "outputs": [],
   "source": []
  }
 ],
 "metadata": {
  "kernelspec": {
   "display_name": "Python 3",
   "language": "python",
   "name": "python3"
  },
  "language_info": {
   "codemirror_mode": {
    "name": "ipython",
    "version": 3
   },
   "file_extension": ".py",
   "mimetype": "text/x-python",
   "name": "python",
   "nbconvert_exporter": "python",
   "pygments_lexer": "ipython3",
   "version": "3.7.4"
  }
 },
 "nbformat": 4,
 "nbformat_minor": 4
}
