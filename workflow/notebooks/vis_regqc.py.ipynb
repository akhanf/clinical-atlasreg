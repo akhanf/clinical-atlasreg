{
 "cells": [
  {
   "cell_type": "code",
   "execution_count": null,
   "metadata": {
    "tags": [
     "snakemake-job-properties"
    ]
   },
   "outputs": [],
   "source": [
    "\n",
    "######## snakemake preamble start (automatically inserted, do not edit) ########\n",
    "import sys; sys.path.extend(['/project/6007967/akhanf/opt/virtualenvs/snakemake/lib/python3.7/site-packages', '/scratch/akhanf/clinical-atlasreg/workflow/notebooks']); import pickle; snakemake = pickle.loads(b'\\x80\\x03csnakemake.script\\nSnakemake\\nq\\x00)\\x81q\\x01}q\\x02(X\\x05\\x00\\x00\\x00inputq\\x03csnakemake.io\\nInputFiles\\nq\\x04)\\x81q\\x05(X/\\x00\\x00\\x00resources/tpl-MNI152NLin6Asym_res-01_T1w.nii.gzq\\x06XE\\x00\\x00\\x00results/sub-P025/sub-P025_space-MNI152NLin6Asym_desc-rigid_T1w.nii.gzq\\x07e}q\\x08(X\\x06\\x00\\x00\\x00_namesq\\t}q\\n(X\\x03\\x00\\x00\\x00refq\\x0bK\\x00N\\x86q\\x0cX\\x03\\x00\\x00\\x00floq\\rK\\x01N\\x86q\\x0euX\\x12\\x00\\x00\\x00_allowed_overridesq\\x0f]q\\x10(X\\x05\\x00\\x00\\x00indexq\\x11X\\x04\\x00\\x00\\x00sortq\\x12eh\\x11cfunctools\\npartial\\nq\\x13cbuiltins\\ngetattr\\nq\\x14csnakemake.io\\nNamedlist\\nq\\x15X\\x0f\\x00\\x00\\x00_used_attributeq\\x16\\x86q\\x17Rq\\x18\\x85q\\x19Rq\\x1a(h\\x18)}q\\x1bX\\x05\\x00\\x00\\x00_nameq\\x1ch\\x11sNtq\\x1dbh\\x12h\\x13h\\x18\\x85q\\x1eRq\\x1f(h\\x18)}q h\\x1ch\\x12sNtq!bh\\x0bh\\x06h\\rh\\x07ubX\\x06\\x00\\x00\\x00outputq\"csnakemake.io\\nOutputFiles\\nq#)\\x81q$(XI\\x00\\x00\\x00qc/sub-P025/sub-P025_desc-rigid_from-subject_to-MNI152NLin6Asym_regqc.pngq%XJ\\x00\\x00\\x00qc/sub-P025/sub-P025_desc-rigid_from-subject_to-MNI152NLin6Asym_regqc.htmlq&e}q\\'(h\\t}q((X\\x03\\x00\\x00\\x00pngq)K\\x00N\\x86q*X\\x04\\x00\\x00\\x00htmlq+K\\x01N\\x86q,uh\\x0f]q-(h\\x11h\\x12eh\\x11h\\x13h\\x18\\x85q.Rq/(h\\x18)}q0h\\x1ch\\x11sNtq1bh\\x12h\\x13h\\x18\\x85q2Rq3(h\\x18)}q4h\\x1ch\\x12sNtq5bh)h%h+h&ubX\\x06\\x00\\x00\\x00paramsq6csnakemake.io\\nParams\\nq7)\\x81q8}q9(h\\t}q:h\\x0f]q;(h\\x11h\\x12eh\\x11h\\x13h\\x18\\x85q<Rq=(h\\x18)}q>h\\x1ch\\x11sNtq?bh\\x12h\\x13h\\x18\\x85q@RqA(h\\x18)}qBh\\x1ch\\x12sNtqCbubX\\t\\x00\\x00\\x00wildcardsqDcsnakemake.io\\nWildcards\\nqE)\\x81qF(X\\x04\\x00\\x00\\x00P025qGX\\x0f\\x00\\x00\\x00MNI152NLin6AsymqHe}qI(h\\t}qJ(X\\x07\\x00\\x00\\x00subjectqKK\\x00N\\x86qLX\\x08\\x00\\x00\\x00templateqMK\\x01N\\x86qNuh\\x0f]qO(h\\x11h\\x12eh\\x11h\\x13h\\x18\\x85qPRqQ(h\\x18)}qRh\\x1ch\\x11sNtqSbh\\x12h\\x13h\\x18\\x85qTRqU(h\\x18)}qVh\\x1ch\\x12sNtqWbX\\x07\\x00\\x00\\x00subjectqXhGX\\x08\\x00\\x00\\x00templateqYhHubX\\x07\\x00\\x00\\x00threadsqZK\\x01X\\t\\x00\\x00\\x00resourcesq[csnakemake.io\\nResources\\nq\\\\)\\x81q](K\\x01K\\x01e}q^(h\\t}q_(X\\x06\\x00\\x00\\x00_coresq`K\\x00N\\x86qaX\\x06\\x00\\x00\\x00_nodesqbK\\x01N\\x86qcuh\\x0f]qd(h\\x11h\\x12eh\\x11h\\x13h\\x18\\x85qeRqf(h\\x18)}qgh\\x1ch\\x11sNtqhbh\\x12h\\x13h\\x18\\x85qiRqj(h\\x18)}qkh\\x1ch\\x12sNtqlbh`K\\x01hbK\\x01ubX\\x03\\x00\\x00\\x00logqmcsnakemake.io\\nLog\\nqn)\\x81qo}qp(h\\t}qqh\\x0f]qr(h\\x11h\\x12eh\\x11h\\x13h\\x18\\x85qsRqt(h\\x18)}quh\\x1ch\\x11sNtqvbh\\x12h\\x13h\\x18\\x85qwRqx(h\\x18)}qyh\\x1ch\\x12sNtqzbubX\\x06\\x00\\x00\\x00configq{}q|(X\\x0b\\x00\\x00\\x00singularityq}}q~X\\t\\x00\\x00\\x00neurogliaq\\x7fXO\\x00\\x00\\x00/project/6050199/akhanf/singularity/bids-apps/khanlab_neuroglia-core_latest.sifq\\x80sX\\x0b\\x00\\x00\\x00subject_t1wq\\x81X\\x90\\x00\\x00\\x00/project/6050199/akhanf/cfmm-bids/data/Khan/epi_iEEG/mri/bids_defaced/sub-{subject}/ses-001/anat/sub-{subject}_ses-001_run-01_T1w_defaced.nii.gzq\\x82X\\x0c\\x00\\x00\\x00template_t1wq\\x83X*\\x00\\x00\\x00resources/tpl-{template}_res-01_T1w.nii.gzq\\x84X\\t\\x00\\x00\\x00templatesq\\x85]q\\x86X\\x0f\\x00\\x00\\x00MNI152NLin6Asymq\\x87aX\\x10\\x00\\x00\\x00participants_tsvq\\x88X\\x17\\x00\\x00\\x00config/participants.tsvq\\x89uX\\x04\\x00\\x00\\x00ruleq\\x8aX\\x08\\x00\\x00\\x00qc_rigidq\\x8bX\\x0f\\x00\\x00\\x00bench_iterationq\\x8cNX\\t\\x00\\x00\\x00scriptdirq\\x8dX4\\x00\\x00\\x00/scratch/akhanf/clinical-atlasreg/workflow/notebooksq\\x8eub.'); from snakemake.logging import logger; logger.printshellcmds = False; import os; os.chdir('/scratch/akhanf/clinical-atlasreg');\n",
    "######## snakemake preamble end #########\n"
   ]
  },
  {
   "cell_type": "code",
   "execution_count": null,
   "metadata": {},
   "outputs": [],
   "source": [
    "# start coding here"
   ]
  }
 ],
 "metadata": {},
 "nbformat": 4,
 "nbformat_minor": 4
}